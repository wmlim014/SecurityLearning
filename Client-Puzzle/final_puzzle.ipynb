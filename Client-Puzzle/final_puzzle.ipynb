{
 "cells": [
  {
   "cell_type": "markdown",
   "metadata": {},
   "source": [
    "# Declare Puzzle class\n",
    "This section is to declare and initialize the Puzzle class"
   ]
  },
  {
   "cell_type": "code",
   "execution_count": 1,
   "metadata": {},
   "outputs": [],
   "source": [
    "from itertools import product\n",
    "\n",
    "class Puzzle:\n",
    "    def __init__(self, id, num_sub_puzzles, k):\n",
    "        self.id = id\n",
    "        self.num_sub_puzzles = num_sub_puzzles\n",
    "        self.k = k\n",
    "        self.worst_expected_hashes = self.num_sub_puzzles * self.compute_max_attempts_per_sub_puzzle()\n",
    "\n",
    "    def compute_max_attempts_per_sub_puzzle(self):\n",
    "        return 2 ** self.k"
   ]
  },
  {
   "cell_type": "markdown",
   "metadata": {},
   "source": [
    "# Puzzle Distribution"
   ]
  },
  {
   "cell_type": "markdown",
   "metadata": {},
   "source": [
    "## Puzzle distribution functions setup"
   ]
  },
  {
   "cell_type": "code",
   "execution_count": 39,
   "metadata": {},
   "outputs": [],
   "source": [
    "class Puzzle(Puzzle):\n",
    "    def single_sub_puzzle(self, i):\n",
    "        if i <= self.k:\n",
    "            combination = 1\n",
    "        else:\n",
    "            combination = 0\n",
    "        print(f\"{i}, {combination}\") #Debug\n",
    "        # print(f\"{combination}\")\n",
    "    \n",
    "    def multiple_sub_puzzles(self, i):\n",
    "        max_attempts_per_sub_puzzle = self.compute_max_attempts_per_sub_puzzle()\n",
    "        distributions = [\n",
    "            combination for combination in product(range(1, (max_attempts_per_sub_puzzle + 1)), \n",
    "                                                   repeat=self.num_sub_puzzles)\n",
    "            if sum(combination) == i\n",
    "        ]\n",
    "        print(f\"{i}, {len(distributions)}\") #Debug\n",
    "        # print(f\"{len(distributions)}\")\n",
    "\n",
    "    def distribute_possible_combinations(self):\n",
    "\n",
    "        for i in range(1, self.worst_expected_hashes + 1):\n",
    "            if self.num_sub_puzzles == 1:\n",
    "                self.single_sub_puzzle(i)\n",
    "            else:\n",
    "                self.multiple_sub_puzzles(i)"
   ]
  },
  {
   "cell_type": "markdown",
   "metadata": {},
   "source": [
    "## Create instances for Puzzles"
   ]
  },
  {
   "cell_type": "code",
   "execution_count": 4,
   "metadata": {},
   "outputs": [],
   "source": [
    "# Puzzle A: 1 sub-puzzles, k = 6\n",
    "puzzle_a = Puzzle('A', num_sub_puzzles=1, k=6)\n",
    "\n",
    "# Puzzle B: 6 sub-puzzles, k = 4\n",
    "puzzle_b = Puzzle('B', num_sub_puzzles=6, k=4)"
   ]
  },
  {
   "cell_type": "markdown",
   "metadata": {},
   "source": [
    "## Puzzle Distributions"
   ]
  },
  {
   "cell_type": "code",
   "execution_count": 41,
   "metadata": {},
   "outputs": [
    {
     "name": "stdout",
     "output_type": "stream",
     "text": [
      "1, 1\n",
      "2, 1\n",
      "3, 1\n",
      "4, 1\n",
      "5, 1\n",
      "6, 1\n",
      "7, 0\n",
      "8, 0\n",
      "9, 0\n",
      "10, 0\n",
      "11, 0\n",
      "12, 0\n",
      "13, 0\n",
      "14, 0\n",
      "15, 0\n",
      "16, 0\n",
      "17, 0\n",
      "18, 0\n",
      "19, 0\n",
      "20, 0\n",
      "21, 0\n",
      "22, 0\n",
      "23, 0\n",
      "24, 0\n",
      "25, 0\n",
      "26, 0\n",
      "27, 0\n",
      "28, 0\n",
      "29, 0\n",
      "30, 0\n",
      "31, 0\n",
      "32, 0\n",
      "33, 0\n",
      "34, 0\n",
      "35, 0\n",
      "36, 0\n",
      "37, 0\n",
      "38, 0\n",
      "39, 0\n",
      "40, 0\n",
      "41, 0\n",
      "42, 0\n",
      "43, 0\n",
      "44, 0\n",
      "45, 0\n",
      "46, 0\n",
      "47, 0\n",
      "48, 0\n",
      "49, 0\n",
      "50, 0\n",
      "51, 0\n",
      "52, 0\n",
      "53, 0\n",
      "54, 0\n",
      "55, 0\n",
      "56, 0\n",
      "57, 0\n",
      "58, 0\n",
      "59, 0\n",
      "60, 0\n",
      "61, 0\n",
      "62, 0\n",
      "63, 0\n",
      "64, 0\n"
     ]
    }
   ],
   "source": [
    "# Distribution for Puzzle A\n",
    "puzzle_a.distribute_possible_combinations()"
   ]
  },
  {
   "cell_type": "code",
   "execution_count": 42,
   "metadata": {},
   "outputs": [
    {
     "name": "stdout",
     "output_type": "stream",
     "text": [
      "1, 0\n",
      "2, 0\n",
      "3, 0\n",
      "4, 0\n",
      "5, 0\n",
      "6, 1\n",
      "7, 6\n",
      "8, 21\n",
      "9, 56\n",
      "10, 126\n",
      "11, 252\n",
      "12, 462\n",
      "13, 792\n",
      "14, 1287\n",
      "15, 2002\n",
      "16, 3003\n",
      "17, 4368\n",
      "18, 6188\n",
      "19, 8568\n",
      "20, 11628\n",
      "21, 15504\n",
      "22, 20343\n",
      "23, 26298\n",
      "24, 33523\n",
      "25, 42168\n",
      "26, 52374\n",
      "27, 64268\n",
      "28, 77958\n",
      "29, 93528\n",
      "30, 111033\n",
      "31, 130494\n",
      "32, 151893\n",
      "33, 175168\n",
      "34, 200208\n",
      "35, 226848\n",
      "36, 254864\n",
      "37, 283968\n",
      "38, 313818\n",
      "39, 344028\n",
      "40, 374178\n",
      "41, 403824\n",
      "42, 432508\n",
      "43, 459768\n",
      "44, 485148\n",
      "45, 508208\n",
      "46, 528534\n",
      "47, 545748\n",
      "48, 559518\n",
      "49, 569568\n",
      "50, 575688\n",
      "51, 577744\n",
      "52, 575688\n",
      "53, 569568\n",
      "54, 559518\n",
      "55, 545748\n",
      "56, 528534\n",
      "57, 508208\n",
      "58, 485148\n",
      "59, 459768\n",
      "60, 432508\n",
      "61, 403824\n",
      "62, 374178\n",
      "63, 344028\n",
      "64, 313818\n",
      "65, 283968\n",
      "66, 254864\n",
      "67, 226848\n",
      "68, 200208\n",
      "69, 175168\n",
      "70, 151893\n",
      "71, 130494\n",
      "72, 111033\n",
      "73, 93528\n",
      "74, 77958\n",
      "75, 64268\n",
      "76, 52374\n",
      "77, 42168\n",
      "78, 33523\n",
      "79, 26298\n",
      "80, 20343\n",
      "81, 15504\n",
      "82, 11628\n",
      "83, 8568\n",
      "84, 6188\n",
      "85, 4368\n",
      "86, 3003\n",
      "87, 2002\n",
      "88, 1287\n",
      "89, 792\n",
      "90, 462\n",
      "91, 252\n",
      "92, 126\n",
      "93, 56\n",
      "94, 21\n",
      "95, 6\n",
      "96, 1\n"
     ]
    }
   ],
   "source": [
    "# Distribution for Puzzle B\n",
    "puzzle_b.distribute_possible_combinations()"
   ]
  },
  {
   "cell_type": "markdown",
   "metadata": {},
   "source": [
    "# Computation Functions\n",
    "This section is to compute the following:\n",
    "1. Average number of hashes needed (Mean)\n",
    "2. Variance\n",
    "3. Standard deviation"
   ]
  },
  {
   "cell_type": "markdown",
   "metadata": {},
   "source": [
    "## Functions Declaration"
   ]
  },
  {
   "cell_type": "markdown",
   "metadata": {},
   "source": [
    "## Computation Functions"
   ]
  },
  {
   "cell_type": "code",
   "execution_count": 2,
   "metadata": {},
   "outputs": [],
   "source": [
    "import math\n",
    "\n",
    "class Puzzle(Puzzle):\n",
    "    # Mean Formula: [n(n+1)/2] / n\n",
    "    # n = worst expected hashes per sub-puzzle\n",
    "    def compute_mean(self):\n",
    "        n = 0\n",
    "        # Initialize n for puzzle\n",
    "        if self.num_sub_puzzles == 1:\n",
    "            n = self.worst_expected_hashes\n",
    "        else:\n",
    "            n = self.compute_max_attempts_per_sub_puzzle()\n",
    "\n",
    "        # Compute Mean\n",
    "        mean = ((n * (n + 1)) / 2) / n\n",
    "        if self.num_sub_puzzles > 1:\n",
    "            mean = mean * self.num_sub_puzzles\n",
    "        return mean\n",
    "\n",
    "    # Variance Formula: SUM OF[(mean - x)^2] / n\n",
    "    # x = expected hash (i)\n",
    "    # n = worst expected hashes per sub-puzzle\n",
    "    def compute_variance(self):\n",
    "        mean = self.compute_mean()\n",
    "        total_square_differences = 0\n",
    "\n",
    "        # Compute total square differences from mean\n",
    "        for i in range(1, self.worst_expected_hashes + 1):\n",
    "            total_square_differences += ((mean - i) ** 2)\n",
    "        \n",
    "        # Compute variance\n",
    "        if self.num_sub_puzzles == 1:\n",
    "            variance = total_square_differences / self.worst_expected_hashes\n",
    "        else:\n",
    "            variance_per_sub_puzzle = total_square_differences / self.compute_max_attempts_per_sub_puzzle()\n",
    "            variance = variance_per_sub_puzzle * self.num_sub_puzzles\n",
    "\n",
    "        return variance\n",
    "    \n",
    "    def compute_std_deviation(self, variance):\n",
    "        return math.sqrt(variance)\n"
   ]
  },
  {
   "cell_type": "markdown",
   "metadata": {},
   "source": [
    "## Display Functions"
   ]
  },
  {
   "cell_type": "code",
   "execution_count": 3,
   "metadata": {},
   "outputs": [],
   "source": [
    "class Puzzle(Puzzle):\n",
    "    def display_mean(self):\n",
    "        mean = self.compute_mean()\n",
    "        print(f\"Mean for Puzzle {self.id} = {mean}\")\n",
    "\n",
    "    def display_variance_std_deviation(self):\n",
    "        variance = self.compute_variance()\n",
    "        print(f\"Variance for Puzzle {self.id} = {variance}\")\n",
    "\n",
    "        std_deviation = self.compute_std_deviation(variance)\n",
    "        print(f\"Standard Deviation for Puzzle {self.id} = {std_deviation}\")"
   ]
  },
  {
   "cell_type": "code",
   "execution_count": 5,
   "metadata": {},
   "outputs": [
    {
     "name": "stdout",
     "output_type": "stream",
     "text": [
      "Mean for Puzzle A = 32.5\n",
      "Mean for Puzzle B = 51.0\n"
     ]
    }
   ],
   "source": [
    "# Display mean\n",
    "puzzle_a.display_mean()\n",
    "puzzle_b.display_mean()"
   ]
  },
  {
   "cell_type": "code",
   "execution_count": 6,
   "metadata": {},
   "outputs": [
    {
     "name": "stdout",
     "output_type": "stream",
     "text": [
      "Variance for Puzzle A = 341.25\n",
      "Standard Deviation for Puzzle A = 18.472953201911167\n",
      "\n",
      "Variance for Puzzle B = 27870.0\n",
      "Standard Deviation for Puzzle B = 166.9431040804022\n"
     ]
    }
   ],
   "source": [
    "# Display Variance and Standard Deviation\n",
    "puzzle_a.display_variance_std_deviation()\n",
    "print()\n",
    "puzzle_b.display_variance_std_deviation()"
   ]
  }
 ],
 "metadata": {
  "kernelspec": {
   "display_name": "Python 3",
   "language": "python",
   "name": "python3"
  },
  "language_info": {
   "codemirror_mode": {
    "name": "ipython",
    "version": 3
   },
   "file_extension": ".py",
   "mimetype": "text/x-python",
   "name": "python",
   "nbconvert_exporter": "python",
   "pygments_lexer": "ipython3",
   "version": "3.12.5"
  }
 },
 "nbformat": 4,
 "nbformat_minor": 2
}
