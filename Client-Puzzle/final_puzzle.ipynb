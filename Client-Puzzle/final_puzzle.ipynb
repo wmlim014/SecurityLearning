{
 "cells": [
  {
   "cell_type": "markdown",
   "metadata": {},
   "source": [
    "# Declare Puzzle class\n",
    "This section is to declare and process the Puzzle class"
   ]
  },
  {
   "cell_type": "code",
   "execution_count": 5,
   "metadata": {},
   "outputs": [],
   "source": [
    "from itertools import product\n",
    "\n",
    "class Puzzle:\n",
    "    def __init__(self, id, num_sub_puzzles, k):\n",
    "        self.id = id\n",
    "        self.num_sub_puzzles = num_sub_puzzles\n",
    "        self.k = k\n",
    "        self.worst_expected_hashes = self.num_sub_puzzles * self.compute_max_attempts_per_sub_puzzle()\n",
    "\n",
    "    def compute_max_attempts_per_sub_puzzle(self):\n",
    "        return 2 ** self.k\n",
    "    \n",
    "    def single_sub_puzzle(self, i):\n",
    "        if i <= self.k:\n",
    "            combination = 1\n",
    "        else:\n",
    "            combination = 0\n",
    "        print(f\"{i}, {combination}\") #Debug\n",
    "    \n",
    "    def multiple_sub_puzzles(self, i):\n",
    "        max_attempts_per_sub_puzzle = self.compute_max_attempts_per_sub_puzzle()\n",
    "        distributions = [\n",
    "            combination for combination in product(range(1, (max_attempts_per_sub_puzzle + 1)), \n",
    "                                                   repeat=self.num_sub_puzzles)\n",
    "            if sum(combination) == i\n",
    "        ]\n",
    "        print(f\"{i}, {len(distributions)}\") #Debug\n",
    "\n",
    "    def distribute_possible_combinations(self):\n",
    "\n",
    "        for i in range(1, self.worst_expected_hashes + 1):\n",
    "            if self.num_sub_puzzles == 1:\n",
    "                self.single_sub_puzzle(i)\n",
    "            else:\n",
    "                self.multiple_sub_puzzles(i)"
   ]
  },
  {
   "cell_type": "markdown",
   "metadata": {},
   "source": [
    "# Create instances for:"
   ]
  },
  {
   "cell_type": "markdown",
   "metadata": {},
   "source": [
    "## Puzzle A: 1 sub-puzzles, k = 6"
   ]
  },
  {
   "cell_type": "code",
   "execution_count": 6,
   "metadata": {},
   "outputs": [
    {
     "name": "stdout",
     "output_type": "stream",
     "text": [
      "1, 1\n",
      "2, 1\n",
      "3, 1\n",
      "4, 1\n",
      "5, 1\n",
      "6, 1\n",
      "7, 0\n",
      "8, 0\n",
      "9, 0\n",
      "10, 0\n",
      "11, 0\n",
      "12, 0\n",
      "13, 0\n",
      "14, 0\n",
      "15, 0\n",
      "16, 0\n",
      "17, 0\n",
      "18, 0\n",
      "19, 0\n",
      "20, 0\n",
      "21, 0\n",
      "22, 0\n",
      "23, 0\n",
      "24, 0\n",
      "25, 0\n",
      "26, 0\n",
      "27, 0\n",
      "28, 0\n",
      "29, 0\n",
      "30, 0\n",
      "31, 0\n",
      "32, 0\n",
      "33, 0\n",
      "34, 0\n",
      "35, 0\n",
      "36, 0\n",
      "37, 0\n",
      "38, 0\n",
      "39, 0\n",
      "40, 0\n",
      "41, 0\n",
      "42, 0\n",
      "43, 0\n",
      "44, 0\n",
      "45, 0\n",
      "46, 0\n",
      "47, 0\n",
      "48, 0\n",
      "49, 0\n",
      "50, 0\n",
      "51, 0\n",
      "52, 0\n",
      "53, 0\n",
      "54, 0\n",
      "55, 0\n",
      "56, 0\n",
      "57, 0\n",
      "58, 0\n",
      "59, 0\n",
      "60, 0\n",
      "61, 0\n",
      "62, 0\n",
      "63, 0\n",
      "64, 0\n"
     ]
    }
   ],
   "source": [
    "puzzle_a = Puzzle('A', num_sub_puzzles=1, k=6)\n",
    "puzzle_a.distribute_possible_combinations()"
   ]
  },
  {
   "cell_type": "markdown",
   "metadata": {},
   "source": [
    "## Puzzle B: 6 sub-puzzles, k = 4"
   ]
  },
  {
   "cell_type": "code",
   "execution_count": null,
   "metadata": {},
   "outputs": [
    {
     "name": "stdout",
     "output_type": "stream",
     "text": [
      "1, 0\n",
      "2, 0\n",
      "3, 0\n",
      "4, 0\n",
      "5, 0\n",
      "6, 1\n",
      "7, 6\n",
      "8, 21\n",
      "9, 56\n",
      "10, 126\n",
      "11, 252\n",
      "12, 462\n",
      "13, 792\n",
      "14, 1287\n",
      "15, 2002\n",
      "16, 3003\n",
      "17, 4368\n",
      "18, 6188\n"
     ]
    }
   ],
   "source": [
    "puzzle_b = Puzzle('B', num_sub_puzzles=6, k=4)\n",
    "puzzle_b.distribute_possible_combinations()"
   ]
  },
  {
   "cell_type": "markdown",
   "metadata": {},
   "source": []
  }
 ],
 "metadata": {
  "kernelspec": {
   "display_name": "Python 3",
   "language": "python",
   "name": "python3"
  },
  "language_info": {
   "codemirror_mode": {
    "name": "ipython",
    "version": 3
   },
   "file_extension": ".py",
   "mimetype": "text/x-python",
   "name": "python",
   "nbconvert_exporter": "python",
   "pygments_lexer": "ipython3",
   "version": "3.12.5"
  }
 },
 "nbformat": 4,
 "nbformat_minor": 2
}
